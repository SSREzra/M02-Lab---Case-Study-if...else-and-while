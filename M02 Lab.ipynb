{
 "cells": [
  {
   "cell_type": "code",
   "execution_count": 1,
   "id": "4d8ab751",
   "metadata": {},
   "outputs": [
    {
     "name": "stdout",
     "output_type": "stream",
     "text": [
      "Last Name: hon\n",
      "first name: lol\n",
      "your GPA: 2.5\n",
      "your on niether list\n",
      "Last Name: zzz\n",
      "first name: asdaf\n",
      "your GPA: 3.5\n",
      "Dean's List\n",
      "first name: foder\n",
      "your GPA: lol\n"
     ]
    },
    {
     "ename": "ValueError",
     "evalue": "could not convert string to float: 'lol'",
     "output_type": "error",
     "traceback": [
      "\u001b[1;31m---------------------------------------------------------------------------\u001b[0m",
      "\u001b[1;31mValueError\u001b[0m                                Traceback (most recent call last)",
      "Cell \u001b[1;32mIn[1], line 9\u001b[0m\n\u001b[0;32m      7\u001b[0m \u001b[38;5;28;01mwhile\u001b[39;00m lastname\u001b[38;5;241m.\u001b[39mupper \u001b[38;5;241m!=\u001b[39m \u001b[38;5;124m\"\u001b[39m\u001b[38;5;124mZZZ\u001b[39m\u001b[38;5;124m\"\u001b[39m:\n\u001b[0;32m      8\u001b[0m     firstname \u001b[38;5;241m=\u001b[39m \u001b[38;5;28minput\u001b[39m(\u001b[38;5;124m\"\u001b[39m\u001b[38;5;124mfirst name: \u001b[39m\u001b[38;5;124m\"\u001b[39m)\n\u001b[1;32m----> 9\u001b[0m     gpa \u001b[38;5;241m=\u001b[39m \u001b[38;5;28mfloat\u001b[39m(\u001b[38;5;28minput\u001b[39m(\u001b[38;5;124m\"\u001b[39m\u001b[38;5;124myour GPA: \u001b[39m\u001b[38;5;124m\"\u001b[39m))\n\u001b[0;32m     10\u001b[0m     \u001b[38;5;28;01mif\u001b[39;00m gpa \u001b[38;5;241m>\u001b[39m\u001b[38;5;241m=\u001b[39m \u001b[38;5;241m3.5\u001b[39m:\n\u001b[0;32m     11\u001b[0m         \u001b[38;5;28mprint\u001b[39m(\u001b[38;5;124m\"\u001b[39m\u001b[38;5;124mDean\u001b[39m\u001b[38;5;124m'\u001b[39m\u001b[38;5;124ms List\u001b[39m\u001b[38;5;124m\"\u001b[39m)\n",
      "\u001b[1;31mValueError\u001b[0m: could not convert string to float: 'lol'"
     ]
    }
   ],
   "source": [
    "#LaDavion Jones\n",
    "#M02 Lab\n",
    "#accpets students names to and gpas to test if they quailfy for deans list or honor roll\n",
    "\n",
    "\n",
    "lastname = input (\"Last Name: \")\n",
    "while lastname.upper != \"ZZZ\":\n",
    "    firstname = input(\"first name: \")\n",
    "    gpa = float(input(\"your GPA: \"))\n",
    "    if gpa >= 3.5:\n",
    "        print(\"Dean's List\")\n",
    "    elif gpa >= 3.25:\n",
    "        print(\"Honor Roll\")\n",
    "    else:\n",
    "        print(\"your on niether list\")\n",
    "        lastname = input(\"Last Name: \")"
   ]
  }
 ],
 "metadata": {
  "kernelspec": {
   "display_name": "Python 3 (ipykernel)",
   "language": "python",
   "name": "python3"
  },
  "language_info": {
   "codemirror_mode": {
    "name": "ipython",
    "version": 3
   },
   "file_extension": ".py",
   "mimetype": "text/x-python",
   "name": "python",
   "nbconvert_exporter": "python",
   "pygments_lexer": "ipython3",
   "version": "3.11.5"
  }
 },
 "nbformat": 4,
 "nbformat_minor": 5
}
